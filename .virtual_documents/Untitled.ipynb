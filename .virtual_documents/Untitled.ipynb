import pandas as pd
import numpy as np


url = 'https://raw.githubusercontent.com/djolly09/Psych_755_Final/refs/heads/main/data/insurance_claims.csv'


print(url)


d = pd.read_csv(url,index_col = 0) 


d.head()


d.shape


d2 = d.dropna()  # Remove rows with missing values


d2.shape



